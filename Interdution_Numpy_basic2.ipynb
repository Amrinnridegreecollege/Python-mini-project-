{
  "cells": [
    {
      "cell_type": "markdown",
      "metadata": {
        "id": "view-in-github",
        "colab_type": "text"
      },
      "source": [
        "<a href=\"https://colab.research.google.com/github/Amrinnridegreecollege/Python-mini-project-/blob/main/Interdution_Numpy_basic2.ipynb\" target=\"_parent\"><img src=\"https://colab.research.google.com/assets/colab-badge.svg\" alt=\"Open In Colab\"/></a>"
      ]
    },
    {
      "cell_type": "code",
      "execution_count": null,
      "metadata": {
        "id": "NPZh7OmexNtr"
      },
      "outputs": [],
      "source": [
        "#Numpy_ Numeric python\n",
        "#Most powerful package_ library\n",
        "#Numpy_ Dimrnsions\n",
        "#A_oneDimensional Array\n",
        "#[A,B]||[A\n",
        "#        B]_Two Dimensoinal Array_Row||Column\n",
        "#Three Dimensional\n",
        "#Array _storing,Manipulating,similar Datatype\n",
        "#Faster than any mathrmatical functions\n",
        "#cinviniemt compared to other packages\n",
        "#Memory efficiency\n",
        "#support multi dimensional arrays"
      ]
    },
    {
      "cell_type": "code",
      "execution_count": null,
      "metadata": {
        "id": "f5iEt09g2vDC"
      },
      "outputs": [],
      "source": [
        "#Install numpy_pip3 install numpy||pip install numpy"
      ]
    },
    {
      "cell_type": "code",
      "execution_count": null,
      "metadata": {
        "id": "QPZsU8Al3aC5"
      },
      "outputs": [],
      "source": [
        "import numpy as np"
      ]
    },
    {
      "cell_type": "code",
      "execution_count": null,
      "metadata": {
        "colab": {
          "base_uri": "https://localhost:8080/"
        },
        "id": "c3kX4FuR3hiA",
        "outputId": "fb2490a9-589c-41d5-b5ca-e623f2e3b106"
      },
      "outputs": [
        {
          "output_type": "stream",
          "name": "stdout",
          "text": [
            "[1 2 3 4 5]\n"
          ]
        }
      ],
      "source": [
        "#create a numpy array\n",
        "#1D array\n",
        "arr1D = np.array([1,2,3,4,5])\n",
        "print (arr1D)"
      ]
    },
    {
      "cell_type": "code",
      "execution_count": null,
      "metadata": {
        "id": "kAfBdZwC4cx_"
      },
      "outputs": [],
      "source": [
        "#cteating 2D array _Matrix\n",
        "arr2D = np.array ([\n",
        "    [1,2,3],[4,5,6]\n",
        "])"
      ]
    },
    {
      "cell_type": "code",
      "execution_count": null,
      "metadata": {
        "colab": {
          "base_uri": "https://localhost:8080/"
        },
        "id": "qdR8v2SK5BwX",
        "outputId": "8856e3a2-cb61-48dd-85c1-6fea8eea711d"
      },
      "outputs": [
        {
          "output_type": "stream",
          "name": "stdout",
          "text": [
            "[[1 2 3]\n",
            " [4 5 6]]\n"
          ]
        }
      ],
      "source": [
        "print (arr2D)"
      ]
    },
    {
      "cell_type": "code",
      "execution_count": null,
      "metadata": {
        "colab": {
          "base_uri": "https://localhost:8080/"
        },
        "id": "UBBFXisR5Ukw",
        "outputId": "a8857a0d-f89d-416a-b4ec-cc51313b696f"
      },
      "outputs": [
        {
          "output_type": "stream",
          "name": "stdout",
          "text": [
            "[[0. 0. 0.]\n",
            " [0. 0. 0.]]\n"
          ]
        }
      ],
      "source": [
        "#creating array with default values\n",
        "#creating  matrix will all values of elements as\"0\"\n",
        "allzeros=np.zeros((2,3))\n",
        "print(allzeros)"
      ]
    },
    {
      "cell_type": "code",
      "execution_count": null,
      "metadata": {
        "colab": {
          "base_uri": "https://localhost:8080/"
        },
        "id": "gxp3UDpF6B4E",
        "outputId": "569e4d94-87ae-4b9a-9348-d6de065f0336"
      },
      "outputs": [
        {
          "output_type": "stream",
          "name": "stdout",
          "text": [
            "[[1. 1. 1.]\n",
            " [1. 1. 1.]]\n"
          ]
        }
      ],
      "source": [
        "#creating  matrixwith all values of elements as'1'\n",
        "allones=np.ones((2,3))\n",
        "print( allones)"
      ]
    },
    {
      "cell_type": "code",
      "execution_count": null,
      "metadata": {
        "colab": {
          "base_uri": "https://localhost:8080/"
        },
        "id": "6yoC6O-u7L06",
        "outputId": "959195bb-f220-4039-cadd-aa006b2d3542"
      },
      "outputs": [
        {
          "output_type": "stream",
          "name": "stdout",
          "text": [
            "[[6 6 6]\n",
            " [6 6 6]]\n"
          ]
        }
      ],
      "source": [
        "#creating matrix with all values of elements as'constant value_n~Fill value '\n",
        "allconstant=np.full((2,3),6)\n",
        "print(allconstant)"
      ]
    },
    {
      "cell_type": "code",
      "execution_count": null,
      "metadata": {
        "colab": {
          "base_uri": "https://localhost:8080/"
        },
        "id": "MSs6-YEB8Mm2",
        "outputId": "d95b1a9f-fb6c-42fb-fa6a-a586117db943"
      },
      "outputs": [
        {
          "output_type": "stream",
          "name": "stdout",
          "text": [
            "[[1. 0. 0. 0.]\n",
            " [0. 1. 0. 0.]\n",
            " [0. 0. 1. 0.]\n",
            " [0. 0. 0. 1.]]\n"
          ]
        }
      ],
      "source": [
        "#create an identity matrix_I_square matrux\n",
        "identity=np.eye(4)\n",
        "print (identity)\n",
        "#Identity Matrix_Aii=1&Aij=0\n",
        "#For all A Belongs to R MXN\n",
        "#Aij_"
      ]
    },
    {
      "cell_type": "code",
      "execution_count": null,
      "metadata": {
        "id": "QyXk0fIC96-f"
      },
      "outputs": [],
      "source": [
        "#creating a random Matrices\n",
        "\n",
        "#between 0 and 1\n",
        "rand1=np.random.rand (3,3)"
      ]
    },
    {
      "cell_type": "code",
      "execution_count": null,
      "metadata": {
        "colab": {
          "base_uri": "https://localhost:8080/"
        },
        "id": "WjSkao_cIz1l",
        "outputId": "a114d76b-a4ec-4c18-f431-0e62b57ec592"
      },
      "outputs": [
        {
          "output_type": "stream",
          "name": "stdout",
          "text": [
            "[[0.03453505 0.40023537 0.47490409]\n",
            " [0.3868976  0.71044349 0.30339061]\n",
            " [0.18600618 0.14575841 0.80745898]]\n"
          ]
        }
      ],
      "source": [
        "print(rand1)"
      ]
    },
    {
      "cell_type": "code",
      "execution_count": null,
      "metadata": {
        "colab": {
          "base_uri": "https://localhost:8080/"
        },
        "id": "2302WgX6FM6g",
        "outputId": "7018e4a9-5220-45e1-9648-b9adce5549b3"
      },
      "outputs": [
        {
          "output_type": "stream",
          "name": "stdout",
          "text": [
            "[[1 2 3 4]\n",
            " [2 3 4 5]]\n",
            "\\ n The shape of the array is((2, 4)\n",
            "The size of the array is(8\n",
            "The Data type of the array is(int64\n",
            "The Dimensions of the array is(2\n"
          ]
        }
      ],
      "source": [
        "#Array properties\n",
        "arr= np.array([[1,2,3,4],[2,3,4,5]])\n",
        "print(arr)\n",
        "#Shape or array\n",
        "print (f'\\ n The shape of the array is({arr.shape}')\n",
        "#Size of array\n",
        "print(f'The size of the array is({arr.size}')\n",
        "#Datatype of array\n",
        "print(f'The Data type of the array is({arr.dtype}')\n",
        "#Dimensions of array\n",
        "print(f'The Dimensions of the array is({arr.ndim}')"
      ]
    },
    {
      "cell_type": "code",
      "execution_count": null,
      "metadata": {
        "colab": {
          "base_uri": "https://localhost:8080/"
        },
        "id": "NdrKI2azJPCn",
        "outputId": "b42db192-dad9-4875-a7b0-87a0f61bb35c"
      },
      "outputs": [
        {
          "output_type": "stream",
          "name": "stdout",
          "text": [
            "[1 2 3 4]\n",
            "4\n",
            "[1 2 3]\n",
            "[[1 2 3]\n",
            " [2 3 4]]\n"
          ]
        }
      ],
      "source": [
        "#Indexing and slicing\n",
        "#Access the element in 1D Array\n",
        "arr= np.array([1,2,3,4])\n",
        "print(arr)\n",
        "print(arr[3])\n",
        "#slicing the elements\n",
        "print (arr[0:3])\n",
        "#Access the element in 2D Array\n",
        "arr2=np.array([[1,2,3],[2,3,4]])\n",
        "print(arr2)"
      ]
    },
    {
      "cell_type": "code",
      "execution_count": null,
      "metadata": {
        "colab": {
          "base_uri": "https://localhost:8080/"
        },
        "id": "bEGPKdQ-kE86",
        "outputId": "8bbd7724-d9e1-4379-8a2f-4e1827eea61e"
      },
      "outputs": [
        {
          "output_type": "stream",
          "name": "stdout",
          "text": [
            "3\n"
          ]
        }
      ],
      "source": [
        "print(arr2[1,1])"
      ]
    },
    {
      "cell_type": "code",
      "execution_count": null,
      "metadata": {
        "colab": {
          "base_uri": "https://localhost:8080/"
        },
        "id": "00EYt1dbkNmD",
        "outputId": "75f955a3-4d4a-4051-ceea-d9db3ebe0976"
      },
      "outputs": [
        {
          "output_type": "stream",
          "name": "stdout",
          "text": [
            "[1 2 3]\n"
          ]
        }
      ],
      "source": [
        "print(arr2[0,:])#first row with all columns"
      ]
    },
    {
      "cell_type": "code",
      "execution_count": null,
      "metadata": {
        "colab": {
          "base_uri": "https://localhost:8080/"
        },
        "id": "61e24VepkdgQ",
        "outputId": "4910aa89-d032-4a1e-f9d4-9b512ecc784b"
      },
      "outputs": [
        {
          "output_type": "stream",
          "name": "stdout",
          "text": [
            "[1 2]\n"
          ]
        }
      ],
      "source": [
        "print(arr2[:,0])#first Column with all rows"
      ]
    },
    {
      "cell_type": "code",
      "execution_count": null,
      "metadata": {
        "colab": {
          "base_uri": "https://localhost:8080/"
        },
        "id": "V6fEI9jCktrU",
        "outputId": "31357eaf-d161-4342-8eb4-6e55aec0dbdb"
      },
      "outputs": [
        {
          "output_type": "stream",
          "name": "stdout",
          "text": [
            "[10  7  4  1 -2 -5 -8]\n"
          ]
        }
      ],
      "source": [
        "L1=[]\n",
        "[L1.append(_) for _ in range (10)]\n",
        "import numpy as np\n",
        "L1=np.arange(10,-10,-3) # Assuming you intended 10 as the stop value, otherwise, change it accordingly\n",
        "print (L1)"
      ]
    },
    {
      "cell_type": "code",
      "source": [
        "#Mathematical  operator\n",
        "a=np.array([1,2,3])\n",
        "b=np.array([3,4,5])\n",
        "print(f'The sum of a and b is{a+b}')\n",
        "print(f'The diff of a and b is {a-b}')\n",
        "print(f'The product of a and b is {a*b}')\n",
        "print(f'The division of a and b is {a/b}')"
      ],
      "metadata": {
        "colab": {
          "base_uri": "https://localhost:8080/"
        },
        "id": "y1Az3bQ11KQ7",
        "outputId": "471de6da-264c-4671-97f4-53c5bed1608e"
      },
      "execution_count": 33,
      "outputs": [
        {
          "output_type": "stream",
          "name": "stdout",
          "text": [
            "The sum of a and b is[4 6 8]\n",
            "The diff of a and b is [-2 -2 -2]\n",
            "The product of a and b is [ 3  8 15]\n",
            "The division of a and b is [0.33333333 0.5        0.6       ]\n"
          ]
        }
      ]
    },
    {
      "cell_type": "code",
      "source": [
        "#Matrix Multiplication\n",
        "b1=np.array([[1,2,3],[2,3,4]])\n",
        "b2=np.array([[5,6],[7,8],[1,3]])\n",
        "#Dot.produt\n",
        "c=np.dot(b1,b2)\n",
        "print (c)"
      ],
      "metadata": {
        "colab": {
          "base_uri": "https://localhost:8080/"
        },
        "id": "ijvQQotv2zXf",
        "outputId": "f3e5e264-9016-40a2-bce6-0bb94fa87f8b"
      },
      "execution_count": 34,
      "outputs": [
        {
          "output_type": "stream",
          "name": "stdout",
          "text": [
            "[[22 31]\n",
            " [35 48]]\n"
          ]
        }
      ]
    },
    {
      "cell_type": "code",
      "source": [
        "print(b1)"
      ],
      "metadata": {
        "colab": {
          "base_uri": "https://localhost:8080/"
        },
        "id": "aZln8m-w3s6a",
        "outputId": "819b69d1-3ee4-4eb4-fbb0-ee22d2f37d4e"
      },
      "execution_count": 35,
      "outputs": [
        {
          "output_type": "stream",
          "name": "stdout",
          "text": [
            "[[1 2 3]\n",
            " [2 3 4]]\n"
          ]
        }
      ]
    },
    {
      "cell_type": "code",
      "source": [
        "print(b2)"
      ],
      "metadata": {
        "colab": {
          "base_uri": "https://localhost:8080/"
        },
        "id": "ZwUHFLEU3zm7",
        "outputId": "b373a1aa-beff-45f6-e5c6-e23eb33b0f9f"
      },
      "execution_count": 36,
      "outputs": [
        {
          "output_type": "stream",
          "name": "stdout",
          "text": [
            "[[5 6]\n",
            " [7 8]\n",
            " [1 3]]\n"
          ]
        }
      ]
    },
    {
      "cell_type": "code",
      "source": [
        "[\n",
        "[22,31],\n",
        " [35,48]\n",
        "]"
      ],
      "metadata": {
        "id": "puFxsDhE39_P",
        "colab": {
          "base_uri": "https://localhost:8080/"
        },
        "outputId": "64e8fb78-ec95-412c-8d0d-6d03cf95fc68"
      },
      "execution_count": 38,
      "outputs": [
        {
          "output_type": "execute_result",
          "data": {
            "text/plain": [
              "[[22, 31], [35, 48]]"
            ]
          },
          "metadata": {},
          "execution_count": 38
        }
      ]
    }
  ],
  "metadata": {
    "colab": {
      "provenance": [],
      "authorship_tag": "ABX9TyNkmewOVgcOtVOP7275XN0p",
      "include_colab_link": true
    },
    "kernelspec": {
      "display_name": "Python 3",
      "name": "python3"
    },
    "language_info": {
      "name": "python"
    }
  },
  "nbformat": 4,
  "nbformat_minor": 0
}