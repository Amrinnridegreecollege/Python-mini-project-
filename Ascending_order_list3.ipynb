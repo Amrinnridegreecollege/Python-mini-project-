{
  "nbformat": 4,
  "nbformat_minor": 0,
  "metadata": {
    "colab": {
      "provenance": [],
      "authorship_tag": "ABX9TyN+efS8Jp4hqSEljC3X1zqt",
      "include_colab_link": true
    },
    "kernelspec": {
      "name": "python3",
      "display_name": "Python 3"
    },
    "language_info": {
      "name": "python"
    }
  },
  "cells": [
    {
      "cell_type": "markdown",
      "metadata": {
        "id": "view-in-github",
        "colab_type": "text"
      },
      "source": [
        "<a href=\"https://colab.research.google.com/github/Amrinnridegreecollege/Python-mini-project-/blob/main/Ascending_order_list3.ipynb\" target=\"_parent\"><img src=\"https://colab.research.google.com/assets/colab-badge.svg\" alt=\"Open In Colab\"/></a>"
      ]
    },
    {
      "cell_type": "code",
      "execution_count": 3,
      "metadata": {
        "id": "re4Es86c3ynW",
        "colab": {
          "base_uri": "https://localhost:8080/"
        },
        "outputId": "f8867e44-7ec3-4f88-a317-44dda23e0523"
      },
      "outputs": [
        {
          "output_type": "stream",
          "name": "stdout",
          "text": [
            "list1: [0, 1, 6, 3, 10, 4]\n",
            "list2: [0, 1, 3, 4, 6, 10]\n"
          ]
        }
      ],
      "source": [
        "\n",
        "numbers=[0,1,6,3,10,4]\n",
        "def asending_order():\n",
        "       print(\"list1:\",numbers)\n",
        "       numbers.sort()\n",
        "       print(\"list2:\",numbers)\n",
        "\n",
        "asending_order()"
      ]
    }
  ]
}