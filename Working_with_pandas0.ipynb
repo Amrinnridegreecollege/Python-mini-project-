{
  "cells": [
    {
      "cell_type": "markdown",
      "metadata": {
        "id": "view-in-github",
        "colab_type": "text"
      },
      "source": [
        "<a href=\"https://colab.research.google.com/github/Amrinnridegreecollege/Python-mini-project-/blob/main/Working_with_pandas0.ipynb\" target=\"_parent\"><img src=\"https://colab.research.google.com/assets/colab-badge.svg\" alt=\"Open In Colab\"/></a>"
      ]
    },
    {
      "cell_type": "code",
      "execution_count": null,
      "metadata": {
        "id": "MItcXaM980-9"
      },
      "outputs": [],
      "source": [
        "import random"
      ]
    },
    {
      "cell_type": "code",
      "execution_count": null,
      "metadata": {
        "id": "dBftgVbp89Zl"
      },
      "outputs": [],
      "source": [
        "import sys"
      ]
    },
    {
      "cell_type": "code",
      "execution_count": null,
      "metadata": {
        "id": "xsV1IQLmALGQ"
      },
      "outputs": [],
      "source": [
        "question =\"\"\"\n",
        "Problem: Retail Transactions Data Analysis with Pandas\n",
        "\n",
        "You are provided with a CSV file named retail_transactions.csv that contains data from a retail chain. The file includes the following columns:\n",
        "    •   TransactionID: A unique identifier for each transaction.\n",
        "    •   TransactionDate: The date when the transaction occurred, in the format 'YYYY-MM-DD'.\n",
        "    •   StoreID: Identifier for the store where the transaction took place.\n",
        "    •   CustomerID: Unique identifier for the customer.\n",
        "    •   ProductID: Identifier for the product sold.\n",
        "    •   ProductCategory: The category of the product (e.g., Electronics, Apparel, Grocery, etc.).\n",
        "    •   Quantity: Number of units sold.\n",
        "    •   Price: Unit price of the product.\n",
        "    •   PaymentType: Payment method used (e.g., Cash, Credit, Debit).\n",
        "    •   Discount: Discount applied (as a percentage, e.g., 10 for 10% discount). This column may have missing values if no discount was given.\n",
        "\n",
        "Your task is to perform the following analysis using Pandas only (do not use NumPy functions):\n",
        "    1.  Data Loading & Parsing:\n",
        "    •   Import the necessary libraries.\n",
        "    •   Read the CSV file into a Pandas DataFrame.\n",
        "    •   Ensure that the TransactionDate column is parsed as a datetime object.\n",
        "    2.  Initial Data Exploration:\n",
        "    •   Display the first 15 rows of the DataFrame.\n",
        "    •   Print a summary (using methods like .info() and .describe()) to understand the structure and data types.\n",
        "    3.  Data Cleaning:\n",
        "    •   Check for missing values in each column and print the count per column.\n",
        "    •   For the columns Quantity, Price, and Discount, ensure they are in the correct numerical format.\n",
        "    •   If Discount has missing values, assume a discount of 0% and fill those missing entries accordingly.\n",
        "    4.  Feature Engineering:\n",
        "    •   Create a new column called NetPrice which applies the discount to the price. Use the formula:\n",
        "\n",
        "\\text{NetPrice} = \\text{Price} \\times \\left(1 - \\frac{\\text{Discount}}{100}\\right)\n",
        "\n",
        "    •   Create another new column called TotalSale computed as:\n",
        "\n",
        "\\text{TotalSale} = \\text{Quantity} \\times \\text{NetPrice}\n",
        "\n",
        "    5.  Data Filtering:\n",
        "    •   Filter the DataFrame to include only those transactions where TotalSale is greater than or equal to 20.\n",
        "    •   Save this filtered data into a new DataFrame for further analysis.\n",
        "    6.  Data Type Conversion:\n",
        "    •   Convert the PaymentType column to a categorical data type.\n",
        "    7.  Grouping and Aggregation:\n",
        "    •   a. Group the filtered DataFrame by ProductCategory and compute:\n",
        "    •   The total Quantity sold for each category.\n",
        "    •   The total TotalSale for each category.\n",
        "    •   b. Sort the grouped result in descending order based on the total TotalSale.\n",
        "    •   c. Identify and print the top 3 product categories with the highest total sales.\n",
        "    8.  Multi-Level Grouping:\n",
        "    •   Group the filtered data by both StoreID and ProductCategory.\n",
        "    •   For each group, calculate the average TotalSale per transaction.\n",
        "    9.  Store-Level Insights:\n",
        "    •   For each store (StoreID), determine which product category has the highest average TotalSale.\n",
        "    •   Prepare and print a summary DataFrame that includes:\n",
        "    •   StoreID\n",
        "    •   The corresponding top ProductCategory\n",
        "    •   The calculated average TotalSale for that category\n",
        "    10. Documentation:\n",
        "    •   Ensure your code is well-commented, explaining each major step in the analysis.\n",
        "\n",
        "Instructions:\n",
        "Write the complete Python code using Pandas to perform the tasks described above. Your solution should be self-contained and avoid using any NumPy functions. Make sure that your code handles potential issues such as missing values and incorrect data types, and that it clearly demonstrates your ability to perform grouping and aggregation operations in Pandas.\"\"\""
      ]
    },
    {
      "cell_type": "code",
      "execution_count": null,
      "metadata": {
        "colab": {
          "base_uri": "https://localhost:8080/"
        },
        "id": "Zy8wywmc9SGz",
        "outputId": "0e72b08a-4879-48d5-f519-680a8acfa002"
      },
      "outputs": [
        {
          "data": {
            "text/plain": [
              "str"
            ]
          },
          "execution_count": 61,
          "metadata": {},
          "output_type": "execute_result"
        }
      ],
      "source": [
        "type(question )"
      ]
    },
    {
      "cell_type": "code",
      "execution_count": null,
      "metadata": {
        "colab": {
          "base_uri": "https://localhost:8080/"
        },
        "id": "97dd_7429fjP",
        "outputId": "57a375b9-9535-4977-fb80-3824f784ba7d"
      },
      "outputs": [
        {
          "name": "stdout",
          "output_type": "stream",
          "text": [
            "\n",
            "Problem: Retail Transactions Data Analysis with Pandas\n",
            "\n",
            "You are provided with a CSV file named retail_transactions.csv that contains data from a retail chain. The file includes the following columns:\n",
            "    •   TransactionID: A unique identifier for each transaction.\n",
            "    •   TransactionDate: The date when the transaction occurred, in the format 'YYYY-MM-DD'.\n",
            "    •   StoreID: Identifier for the store where the transaction took place.\n",
            "    •   CustomerID: Unique identifier for the customer.\n",
            "    •   ProductID: Identifier for the product sold.\n",
            "    •   ProductCategory: The category of the product (e.g., Electronics, Apparel, Grocery, etc.).\n",
            "    •   Quantity: Number of units sold.\n",
            "    •   Price: Unit price of the product.\n",
            "    •   PaymentType: Payment method used (e.g., Cash, Credit, Debit).\n",
            "    •   Discount: Discount applied (as a percentage, e.g., 10 for 10% discount). This column may have missing values if no discount was given.\n",
            "\n",
            "Your task is to perform the following analysis using Pandas only (do not use NumPy functions):\n",
            "    1.  Data Loading & Parsing:\n",
            "    •   Import the necessary libraries.\n",
            "    •   Read the CSV file into a Pandas DataFrame.\n",
            "    •   Ensure that the TransactionDate column is parsed as a datetime object.\n",
            "    2.  Initial Data Exploration:\n",
            "    •   Display the first 15 rows of the DataFrame.\n",
            "    •   Print a summary (using methods like .info() and .describe()) to understand the structure and data types.\n",
            "    3.  Data Cleaning:\n",
            "    •   Check for missing values in each column and print the count per column.\n",
            "    •   For the columns Quantity, Price, and Discount, ensure they are in the correct numerical format.\n",
            "    •   If Discount has missing values, assume a discount of 0% and fill those missing entries accordingly.\n",
            "    4.  Feature Engineering:\n",
            "    •   Create a new column called NetPrice which applies the discount to the price. Use the formula:\n",
            "\n",
            "ight)\n",
            "\n",
            "    •   Create another new column called TotalSale computed as:\n",
            "\n",
            "\text{TotalSale} = \text{Quantity} \times \text{NetPrice}\n",
            "\n",
            "    5.  Data Filtering:\n",
            "    •   Filter the DataFrame to include only those transactions where TotalSale is greater than or equal to 20.\n",
            "    •   Save this filtered data into a new DataFrame for further analysis.\n",
            "    6.  Data Type Conversion:\n",
            "    •   Convert the PaymentType column to a categorical data type.\n",
            "    7.  Grouping and Aggregation:\n",
            "    •   a. Group the filtered DataFrame by ProductCategory and compute:\n",
            "    •   The total Quantity sold for each category.\n",
            "    •   The total TotalSale for each category.\n",
            "    •   b. Sort the grouped result in descending order based on the total TotalSale.\n",
            "    •   c. Identify and print the top 3 product categories with the highest total sales.\n",
            "    8.  Multi-Level Grouping:\n",
            "    •   Group the filtered data by both StoreID and ProductCategory.\n",
            "    •   For each group, calculate the average TotalSale per transaction.\n",
            "    9.  Store-Level Insights:\n",
            "    •   For each store (StoreID), determine which product category has the highest average TotalSale.\n",
            "    •   Prepare and print a summary DataFrame that includes:\n",
            "    •   StoreID\n",
            "    •   The corresponding top ProductCategory\n",
            "    •   The calculated average TotalSale for that category\n",
            "    10. Documentation:\n",
            "    •   Ensure your code is well-commented, explaining each major step in the analysis.\n",
            "\n",
            "Instructions:\n",
            "Write the complete Python code using Pandas to perform the tasks described above. Your solution should be self-contained and avoid using any NumPy functions. Make sure that your code handles potential issues such as missing values and incorrect data types, and that it clearly demonstrates your ability to perform grouping and aggregation operations in Pandas."
          ]
        }
      ],
      "source": [
        "for _ in question:\n",
        "    print(_,end='')\n",
        "    #print(obj,sep='',end='/n')"
      ]
    },
    {
      "cell_type": "code",
      "execution_count": null,
      "metadata": {
        "id": "_lK2W_-d-NwC"
      },
      "outputs": [],
      "source": [
        "import time\n",
        "import sys"
      ]
    },
    {
      "cell_type": "code",
      "execution_count": null,
      "metadata": {
        "colab": {
          "background_save": true,
          "base_uri": "https://localhost:8080/",
          "height": 315
        },
        "id": "4VIt4oS2-nw_",
        "outputId": "e4425371-a594-4567-b1f3-c2af32b0ce9f"
      },
      "outputs": [
        {
          "name": "stdout",
          "output_type": "stream",
          "text": [
            "\n",
            "Problem: Retail Transactions Data Analysis with Pandas\n",
            "\n",
            "You are provided with a CSV file named retail_transactions.csv that contains data from a retail chain. The file includes the following columns:\n",
            "    •   TransactionID: A unique identifier for each transaction.\n",
            "    •   TransactionDate: The date when the transaction occurred, in the format 'YYYY-MM-DD'.\n",
            "    •   StoreID: Identifier for the store where the transaction took place.\n",
            "    •   CustomerID: Unique identifier for the customer.\n",
            "    •   ProductID: Identifier for the product sold.\n",
            "    •   ProductCategory: The category of the product (e.g., Electronics, Apparel, Grocery, etc.).\n",
            "    •   Quantity: Number of units sold.\n",
            "    •   Price: Unit price of the product.\n",
            "    •   PaymentType: Payment method used (e.g., Cash, Credit, Debit).\n",
            "    •   Discount: Discount applied (as a percentage, e.g., 10 for 10% discount). This column may have missing values if no discount was given.\n",
            "\n",
            "Your task is to perform the following analysis using Pandas only (do not use NumPy functions):\n",
            "    1.  Data Loading & Parsing:\n",
            "    •   Import the necessary libraries.\n",
            "    •   Read the CSV file into a Pandas DataFrame.\n",
            "    •   Ensure that the TransactionDate column is parsed as a datetime object.\n",
            "    2.  Initial Data Exploration:\n",
            "    •   Display the first 15 rows of the DataFrame.\n",
            "    •   Print a summary (using methods like .info() and .describe()) to understand the structure and data types.\n",
            "    3.  Data Cleaning:\n",
            "    •   Check for missing values in each column and print the count per column.\n",
            "    •   For the columns Quantity, Price, and Discount, ensure they are in the correct numerical format.\n",
            "    •   If Discount has missing values, assume a discount of 0% and fill those missing entries accordingly.\n",
            "    4.  Feature Engineering:\n",
            "    •   Create a new column called NetPrice which applies the discount to the price. Use the formula:\n",
            "\n",
            "ight)\n",
            "\n",
            "    •   Create another new column called TotalSale computed as:\n",
            "\n",
            "\text{TotalSale} = \text{Quantity} \times \text{NetPrice}\n",
            "\n",
            "    5.  Data Filtering:\n",
            "    •   Filter the DataFrame to include only those transactions where TotalSale is greater than or equal to 20.\n",
            "    •   Save this filtered data into a new DataFrame for further analysis.\n",
            "    6.  Data Type Conversion:\n",
            "    •   Convert the PaymentType column to a categorical data type.\n",
            "    7.  Grouping and Aggregation:\n",
            "    •   a. Group the filtered DataFrame by ProductCategory and compute:\n",
            "    •   The total Quantity sold for each category.\n",
            "    •   The total TotalSale for each category.\n",
            "    •   b. Sort the grouped result in descending order based on the total TotalSale.\n",
            "    •   c. Identify and print the top 3 product categories with the highest total sales.\n",
            "    8.  Multi-Level Grouping:\n",
            "    •   Group the filtered data by both StoreID and ProductCategory.\n",
            "    •   For each group, calculate the average TotalSale per transaction.\n",
            "    9.  Store-Level Insights:\n",
            "    •   For each store (StoreID), determine which product category has the highest average TotalSale.\n",
            "    •   Prepare and print a summary DataFrame that includes:\n",
            "    •   StoreID\n",
            "    •   The corresponding top ProductCategory\n",
            "    •   The calculated average TotalSale for that category\n",
            "    10. Documentation:\n",
            "    •   Ensure your code is well-commented, explaining each major step in the analysis.\n",
            "\n",
            "Instructions:\n",
            "Write the complete Python code using Pandas to perform the tasks described above. Your solution should be self-contained and avoid using any NumPy functions. Make sure that your code handles potential issues such as missing values and incorrect data types, and that it clearly demonstrates your ability to perform grouping and aggregation operations in Pandas."
          ]
        }
      ],
      "source": [
        "for _ in question:\n",
        "    sys.stdout.write(_)\n",
        "    sys.stdout. flush ()\n",
        "    time.sleep(0.005)"
      ]
    },
    {
      "cell_type": "code",
      "execution_count": null,
      "metadata": {
        "colab": {
          "base_uri": "https://localhost:8080/"
        },
        "id": "j6x7HKvsHDLt",
        "outputId": "cbfa1b52-ec0f-4030-bfe4-ebd0d677f142"
      },
      "outputs": [
        {
          "output_type": "stream",
          "name": "stdout",
          "text": [
            "The sum is30\n"
          ]
        }
      ],
      "source": [
        "x = 10\n",
        "y = 20\n",
        "sum = x+y\n",
        "print(f\"The sum is{sum}\")"
      ]
    },
    {
      "cell_type": "code",
      "source": [
        "result =question"
      ],
      "metadata": {
        "id": "DCZKY7CRMQMX"
      },
      "execution_count": null,
      "outputs": []
    },
    {
      "cell_type": "code",
      "source": [
        "for _ in result:\n",
        "    sys.stdout.write(_)\n",
        "    sys.stdout.flush()\n",
        "    time.sleep(0.05)"
      ],
      "metadata": {
        "colab": {
          "base_uri": "https://localhost:8080/"
        },
        "id": "XKydVO6_LJ0-",
        "outputId": "105f2754-abee-44fd-9f5e-c30080d9ea14"
      },
      "execution_count": 87,
      "outputs": [
        {
          "output_type": "stream",
          "name": "stdout",
          "text": [
            "\n",
            "Problem: Retail Transactions Data Analysis with Pandas\n",
            "\n",
            "You are provided with a CSV file named retail_transactions.csv that contains data from a retail chain. The file includes the following columns:\n",
            "    •   TransactionID: A unique identifier for each transaction.\n",
            "    •   TransactionDate: The date when the transaction occurred, in the format 'YYYY-MM-DD'.\n",
            "    •   StoreID: Identifier for the store where the transaction took place.\n",
            "    •   CustomerID: Unique identifier for the customer.\n",
            "    •   ProductID: Identifier for the product sold.\n",
            "    •   ProductCategory: The category of the product (e.g., Electronics, Apparel, Grocery, etc.).\n",
            "    •   Quantity: Number of units sold.\n",
            "    •   Price: Unit price of the product.\n",
            "    •   PaymentType: Payment method used (e.g., Cash, Credit, Debit).\n",
            "    •   Discount: Discount applied (as a percentage, e.g., 10 for 10% discount). This column may have missing values if no discount was given.\n",
            "\n",
            "Your task is to perform the following analysis using Pandas only (do not use NumPy functions):\n",
            "    1.  Data Loading & Parsing:\n",
            "    •   Import the necessary libraries.\n",
            "    •   Read the CSV file into a Pandas DataFrame.\n",
            "    •   Ensure that the TransactionDate column is parsed as a datetime object.\n",
            "    2.  Initial Data Exploration:\n",
            "    •   Display the first 15 rows of the DataFrame.\n",
            "    •   Print a summary (using methods like .info() and .describe()) to understand the structure and data types.\n",
            "    3.  Data Cleaning:\n",
            "    •   Check for missing values in each column and print the count per column.\n",
            "    •   For the columns Quantity, Price, and Discount, ensure they are in the correct numerical format.\n",
            "    •   If Discount has missing values, assume a discount of 0% and fill those missing entries accordingly.\n",
            "    4.  Feature Engineering:\n",
            "    •   Create a new column called NetPrice which applies the discount to the price. Use the formula:\n",
            "\n",
            "ight)\n",
            "\n",
            "    •   Create another new column called TotalSale computed as:\n",
            "\n",
            "\text{TotalSale} = \text{Quantity} \times \text{NetPrice}\n",
            "\n",
            "    5.  Data Filtering:\n",
            "    •   Filter the DataFrame to include only those transactions where TotalSale is greater than or equal to 20.\n",
            "    •   Save this filtered data into a new DataFrame for further analysis.\n",
            "    6.  Data Type Conversion:\n",
            "    •   Convert the PaymentType column to a categorical data type.\n",
            "    7.  Grouping and Aggregation:\n",
            "    •   a. Group the filtered DataFrame by ProductCategory and compute:\n",
            "    •   The total Quantity sold for each category.\n",
            "    •   The total TotalSale for each category.\n",
            "    •   b. Sort the grouped result in descending order based on the total TotalSale.\n",
            "    •   c. Identify and print the top 3 product categories with the highest total sales.\n",
            "    8.  Multi-Level Grouping:\n",
            "    •   Group the filtered data by both StoreID and ProductCategory.\n",
            "    •   For each group, calculate the average TotalSale per transaction.\n",
            "    9.  Store-Level Insights:\n",
            "    •   For each store (StoreID), determine which product category has the highest average TotalSale.\n",
            "    •   Prepare and print a summary DataFrame that includes:\n",
            "    •   StoreID\n",
            "    •   The corresponding top ProductCategory\n",
            "    •   The calculated average TotalSale for that category\n",
            "    10. Documentation:\n",
            "    •   Ensure your code is well-commented, explaining each major step in the analysis.\n",
            "\n",
            "Instructions:\n",
            "Write the complete Python code using Pandas to perform the tasks described above. Your solution should be self-contained and avoid using any NumPy functions. Make sure that your code handles potential issues such as missing values and incorrect data types, and that it clearly demonstrates your ability to perform grouping and aggregation operations in Pandas."
          ]
        }
      ]
    },
    {
      "cell_type": "code",
      "source": [
        "def getAIOPLook(Result):\n",
        " for _ in Result:\n",
        "    sys.stdout. write(_)\n",
        "    sys.stdout.flash()\n",
        "    time.sleep(0.05)"
      ],
      "metadata": {
        "id": "dXhPojXVN2ze"
      },
      "execution_count": 93,
      "outputs": []
    },
    {
      "cell_type": "code",
      "source": [
        "x=10\n",
        "y=20\n",
        "sum=x+y"
      ],
      "metadata": {
        "id": "sAIMoOv9O3vp"
      },
      "execution_count": 94,
      "outputs": []
    },
    {
      "cell_type": "code",
      "source": [
        "text=f'The sum of{x}and{y}is{sum}'"
      ],
      "metadata": {
        "id": "qbtt9Ob7P291"
      },
      "execution_count": 95,
      "outputs": []
    },
    {
      "cell_type": "code",
      "source": [
        "\n",
        "def getAIOPLook(Result):\n",
        "    for _ in Result:\n",
        "        sys.stdout.write(_)\n",
        "        sys.stdout.flush()  # Changed from flash() to flush()\n",
        "        time.sleep(0.05)"
      ],
      "metadata": {
        "id": "IaOz3zvWRZC0"
      },
      "execution_count": 101,
      "outputs": []
    },
    {
      "cell_type": "code",
      "source": [
        "getAIOPLook(text)"
      ],
      "metadata": {
        "colab": {
          "base_uri": "https://localhost:8080/"
        },
        "id": "wSYL1AvIRdH-",
        "outputId": "ce13ac2f-bf06-400c-d635-a9942e77419e"
      },
      "execution_count": 102,
      "outputs": [
        {
          "output_type": "stream",
          "name": "stdout",
          "text": [
            "The sum of10and20is30"
          ]
        }
      ]
    }
  ],
  "metadata": {
    "colab": {
      "provenance": [],
      "authorship_tag": "ABX9TyO/eOeOdnSqgWEOBzBMuJFu",
      "include_colab_link": true
    },
    "kernelspec": {
      "display_name": "Python 3",
      "name": "python3"
    },
    "language_info": {
      "name": "python"
    }
  },
  "nbformat": 4,
  "nbformat_minor": 0
}