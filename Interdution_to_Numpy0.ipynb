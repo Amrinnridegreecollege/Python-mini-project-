{
  "nbformat": 4,
  "nbformat_minor": 0,
  "metadata": {
    "colab": {
      "provenance": [],
      "authorship_tag": "ABX9TyNYnDhrEPKZQLb3MAJekft4",
      "include_colab_link": true
    },
    "kernelspec": {
      "name": "python3",
      "display_name": "Python 3"
    },
    "language_info": {
      "name": "python"
    }
  },
  "cells": [
    {
      "cell_type": "markdown",
      "metadata": {
        "id": "view-in-github",
        "colab_type": "text"
      },
      "source": [
        "<a href=\"https://colab.research.google.com/github/Amrinnridegreecollege/Python-mini-project-/blob/main/Interdution_to_Numpy0.ipynb\" target=\"_parent\"><img src=\"https://colab.research.google.com/assets/colab-badge.svg\" alt=\"Open In Colab\"/></a>"
      ]
    },
    {
      "cell_type": "code",
      "execution_count": null,
      "metadata": {
        "id": "jCpMrJkq8Mc7"
      },
      "outputs": [],
      "source": [
        "import numpy as np"
      ]
    },
    {
      "cell_type": "code",
      "source": [
        "# Recap\n",
        "arr=np.array([[1,2,3],[4,5,6]])"
      ],
      "metadata": {
        "id": "UgTkxWG08foa"
      },
      "execution_count": null,
      "outputs": []
    },
    {
      "cell_type": "code",
      "source": [
        "type(arr)"
      ],
      "metadata": {
        "colab": {
          "base_uri": "https://localhost:8080/"
        },
        "id": "b7ELfqIHCcH6",
        "outputId": "bf74ed41-b3ac-4fe3-cb28-774516f0796e"
      },
      "execution_count": null,
      "outputs": [
        {
          "output_type": "execute_result",
          "data": {
            "text/plain": [
              "numpy.ndarray"
            ]
          },
          "metadata": {},
          "execution_count": 4
        }
      ]
    },
    {
      "cell_type": "code",
      "source": [
        "#Dot product_mxn||nxp\n",
        "arr1=np.random.randint(1,2,(3,1))"
      ],
      "metadata": {
        "id": "8QuvNoIQCl3y"
      },
      "execution_count": null,
      "outputs": []
    },
    {
      "cell_type": "code",
      "source": [
        "arr.shape\n",
        "arr1.shape"
      ],
      "metadata": {
        "colab": {
          "base_uri": "https://localhost:8080/"
        },
        "id": "AYyD27HHC1_P",
        "outputId": "b12c3b1a-3c09-4583-8ffc-41b058de4f19"
      },
      "execution_count": null,
      "outputs": [
        {
          "output_type": "execute_result",
          "data": {
            "text/plain": [
              "(3, 1)"
            ]
          },
          "metadata": {},
          "execution_count": 6
        }
      ]
    },
    {
      "cell_type": "code",
      "source": [
        "result=np.dot(arr,arr1)"
      ],
      "metadata": {
        "id": "6VAqYkszDB3E"
      },
      "execution_count": null,
      "outputs": []
    },
    {
      "cell_type": "code",
      "source": [
        "print(result)"
      ],
      "metadata": {
        "colab": {
          "base_uri": "https://localhost:8080/"
        },
        "id": "NwsNZaNBDL2P",
        "outputId": "0e60af50-b35a-4e59-b7a8-1cb2ed282b52"
      },
      "execution_count": null,
      "outputs": [
        {
          "output_type": "stream",
          "name": "stdout",
          "text": [
            "[[ 6]\n",
            " [15]]\n"
          ]
        }
      ]
    },
    {
      "cell_type": "code",
      "source": [
        "r1=np.random.randint(10,20,(3,3))\n",
        "print(r1)"
      ],
      "metadata": {
        "colab": {
          "base_uri": "https://localhost:8080/"
        },
        "id": "DM-IsQ98DQQY",
        "outputId": "9c93445d-6ae1-45c6-89b7-218163c786cf"
      },
      "execution_count": null,
      "outputs": [
        {
          "output_type": "stream",
          "name": "stdout",
          "text": [
            "[[16 10 13]\n",
            " [15 17 14]\n",
            " [13 18 12]]\n"
          ]
        }
      ]
    },
    {
      "cell_type": "code",
      "source": [
        "r2=np.eye(3)\n",
        "print(r2)"
      ],
      "metadata": {
        "colab": {
          "base_uri": "https://localhost:8080/"
        },
        "id": "wih1FJ6EDb2L",
        "outputId": "e2ee54e5-2152-4756-f7b3-52beb1f6b7db"
      },
      "execution_count": null,
      "outputs": [
        {
          "output_type": "stream",
          "name": "stdout",
          "text": [
            "[[1. 0. 0.]\n",
            " [0. 1. 0.]\n",
            " [0. 0. 1.]]\n"
          ]
        }
      ]
    },
    {
      "cell_type": "code",
      "source": [
        "#r1.I\n",
        "result2=np.dot(r1,r2)"
      ],
      "metadata": {
        "id": "IzCRQ5ctDkOW"
      },
      "execution_count": null,
      "outputs": []
    },
    {
      "cell_type": "code",
      "source": [
        "print(result2)"
      ],
      "metadata": {
        "colab": {
          "base_uri": "https://localhost:8080/"
        },
        "id": "7DzfNkEdDyd3",
        "outputId": "b1682da1-ce61-443d-cf10-979340409554"
      },
      "execution_count": null,
      "outputs": [
        {
          "output_type": "stream",
          "name": "stdout",
          "text": [
            "[[16. 10. 13.]\n",
            " [15. 17. 14.]\n",
            " [13. 18. 12.]]\n"
          ]
        }
      ]
    },
    {
      "cell_type": "code",
      "source": [
        "#M.I=I.M=M"
      ],
      "metadata": {
        "id": "BKkkXBO1D41r"
      },
      "execution_count": null,
      "outputs": []
    },
    {
      "cell_type": "code",
      "source": [
        "#A.B!=B.A"
      ],
      "metadata": {
        "id": "E6g1BBSED-9G"
      },
      "execution_count": null,
      "outputs": []
    },
    {
      "cell_type": "code",
      "source": [
        "#Marhematical operations\n",
        "#+-*/\n",
        "t1=np.random.randint(3,6,(3,3))\n",
        "t2=np.random.randint(3,6,(3,3))"
      ],
      "metadata": {
        "id": "cTDZAVOfEEkE"
      },
      "execution_count": null,
      "outputs": []
    },
    {
      "cell_type": "code",
      "source": [
        "print (t1)"
      ],
      "metadata": {
        "colab": {
          "base_uri": "https://localhost:8080/"
        },
        "id": "UKH69yEtEeVQ",
        "outputId": "2628b428-e817-4cfd-8701-72b51eaf40e7"
      },
      "execution_count": null,
      "outputs": [
        {
          "output_type": "stream",
          "name": "stdout",
          "text": [
            "[[4 5 5]\n",
            " [3 3 5]\n",
            " [3 4 3]]\n"
          ]
        }
      ]
    },
    {
      "cell_type": "code",
      "source": [
        "print(t2)"
      ],
      "metadata": {
        "colab": {
          "base_uri": "https://localhost:8080/"
        },
        "id": "i88Q4KCPEhN8",
        "outputId": "bf67fd45-c8d4-4063-fd35-6f8bdd754b82"
      },
      "execution_count": null,
      "outputs": [
        {
          "output_type": "stream",
          "name": "stdout",
          "text": [
            "[[5 3 4]\n",
            " [3 4 5]\n",
            " [3 5 5]]\n"
          ]
        }
      ]
    },
    {
      "cell_type": "code",
      "source": [
        "t3=t1*t2"
      ],
      "metadata": {
        "id": "_d2ThRxDEmd9"
      },
      "execution_count": null,
      "outputs": []
    },
    {
      "cell_type": "code",
      "source": [
        "print(t3)"
      ],
      "metadata": {
        "colab": {
          "base_uri": "https://localhost:8080/"
        },
        "id": "zsw5Ki-_Eq8B",
        "outputId": "2115bed0-8d55-4d75-de46-85684d17aad1"
      },
      "execution_count": null,
      "outputs": [
        {
          "output_type": "stream",
          "name": "stdout",
          "text": [
            "[[20 15 20]\n",
            " [ 9 12 25]\n",
            " [ 9 20 15]]\n"
          ]
        }
      ]
    },
    {
      "cell_type": "code",
      "source": [
        "#Matrix multiplication\n",
        "result = np.dot(arr,arr1)"
      ],
      "metadata": {
        "id": "0bi6ef7DEt96"
      },
      "execution_count": null,
      "outputs": []
    },
    {
      "cell_type": "code",
      "source": [
        "#statistical operations\n",
        "mean=t3.mean()\n",
        "max=t3.max()\n",
        "median=np.median(t3)\n",
        "std=np.std(t3)\n",
        "var=np.var(t3)"
      ],
      "metadata": {
        "id": "YIWJXfmWF2gt"
      },
      "execution_count": null,
      "outputs": []
    },
    {
      "cell_type": "code",
      "source": [
        "print(median)"
      ],
      "metadata": {
        "colab": {
          "base_uri": "https://localhost:8080/"
        },
        "id": "3kPvYHQZGg_f",
        "outputId": "217ef452-29d8-41e7-fa7e-2a7434d33d1a"
      },
      "execution_count": null,
      "outputs": [
        {
          "output_type": "stream",
          "name": "stdout",
          "text": [
            "15.0\n"
          ]
        }
      ]
    },
    {
      "cell_type": "code",
      "source": [
        "print(std)"
      ],
      "metadata": {
        "colab": {
          "base_uri": "https://localhost:8080/"
        },
        "id": "S3YFjRXKGqBm",
        "outputId": "5a401f0e-e8ea-4deb-f46f-a0b3c2a3e57c"
      },
      "execution_count": null,
      "outputs": [
        {
          "output_type": "stream",
          "name": "stdout",
          "text": [
            "5.2163087085802236\n"
          ]
        }
      ]
    },
    {
      "cell_type": "code",
      "source": [
        "std*std"
      ],
      "metadata": {
        "colab": {
          "base_uri": "https://localhost:8080/"
        },
        "id": "mO9UY6q1GxKt",
        "outputId": "ceb8bda6-8da3-4796-9b70-aadccb6925b1"
      },
      "execution_count": null,
      "outputs": [
        {
          "output_type": "execute_result",
          "data": {
            "text/plain": [
              "27.20987654320988"
            ]
          },
          "metadata": {},
          "execution_count": 25
        }
      ]
    },
    {
      "cell_type": "code",
      "source": [
        "#Trigonometric functions\n",
        "#sin(x)\n",
        "#cos(x)\n",
        "#Tan(x)\n",
        "#cos _1/sin(x)\n",
        "#sec_1/cos(x)\n",
        "#cot_1/tan(x)\n",
        "#\n",
        "angles=np.array([0,15,30,45,60,75,90])\n",
        "#sin(array)\n",
        "result=np.sin(np.radians(angles))"
      ],
      "metadata": {
        "id": "0wu2WAgoG0Cc"
      },
      "execution_count": null,
      "outputs": []
    },
    {
      "cell_type": "code",
      "source": [
        "print(result)"
      ],
      "metadata": {
        "colab": {
          "base_uri": "https://localhost:8080/"
        },
        "id": "KZO7xlc3H8i_",
        "outputId": "ea22462e-5592-455b-c7f5-a4ba53acc110"
      },
      "execution_count": null,
      "outputs": [
        {
          "output_type": "stream",
          "name": "stdout",
          "text": [
            "[0.         0.25881905 0.5        0.70710678 0.8660254  0.96592583\n",
            " 1.        ]\n"
          ]
        }
      ]
    },
    {
      "cell_type": "code",
      "source": [
        "arr=np.array([1,2,3,4,5,6])\n",
        "#Reshape the array\n",
        "reshapedarr=arr.reshape(3,2)\n",
        "print(reshapedarr)\n",
        "#Convert/Flatten any n dim array\n",
        "flattenedarr =arr.flatten()\n",
        "print(flattenedarr)"
      ],
      "metadata": {
        "colab": {
          "base_uri": "https://localhost:8080/"
        },
        "id": "_j8r53XhIEFk",
        "outputId": "12464e50-ec36-4db2-9c56-0d0027c4a9cc"
      },
      "execution_count": null,
      "outputs": [
        {
          "output_type": "stream",
          "name": "stdout",
          "text": [
            "[[1 2]\n",
            " [3 4]\n",
            " [5 6]]\n",
            "[1 2 3 4 5 6]\n"
          ]
        }
      ]
    },
    {
      "cell_type": "code",
      "source": [
        "#stacking the data\n",
        "arr1=np.array([1,2,3,4])\n",
        "arr2=np.array([10,20,30,40])\n",
        "\n",
        "#vertical stacking\n",
        "arr3=np.vstack((arr1,arr2))\n",
        "print(f\"The Shape of arr3 is{arr3.shape}\")\n",
        "\n",
        "#Horizontal stacking\n",
        "arr4=np.hstack((arr1,arr2))\n",
        "print(f\"The shape of arr4 is{arr4.shape}\")"
      ],
      "metadata": {
        "id": "rOLcmrx6KiW5",
        "colab": {
          "base_uri": "https://localhost:8080/"
        },
        "outputId": "f68ec58f-0de1-4b72-c894-7214ccc2c226"
      },
      "execution_count": 32,
      "outputs": [
        {
          "output_type": "stream",
          "name": "stdout",
          "text": [
            "The Shape of arr3 is(2, 4)\n",
            "The shape of arr4 is(8,)\n"
          ]
        }
      ]
    },
    {
      "cell_type": "code",
      "source": [
        "#Filtering\n",
        "arr=np.array([10,20,30,40,50,60,70,80,90])\n",
        "farr=arr[arr>40]\n",
        "print(farr)"
      ],
      "metadata": {
        "colab": {
          "base_uri": "https://localhost:8080/"
        },
        "id": "T44VU1DsOrZd",
        "outputId": "0dad06ed-18f2-402d-a631-b3bae01cee43"
      },
      "execution_count": 33,
      "outputs": [
        {
          "output_type": "stream",
          "name": "stdout",
          "text": [
            "[50 60 70 80 90]\n"
          ]
        }
      ]
    }
  ]
}